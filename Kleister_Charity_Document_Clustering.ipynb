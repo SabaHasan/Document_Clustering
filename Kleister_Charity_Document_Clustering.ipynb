{
 "cells": [
  {
   "cell_type": "code",
   "execution_count": 1,
   "metadata": {
    "ExecuteTime": {
     "end_time": "2020-10-09T21:18:42.634203Z",
     "start_time": "2020-10-09T21:18:41.806723Z"
    }
   },
   "outputs": [],
   "source": [
    "import pandas as pd\n",
    "import re\n",
    "import numpy as np\n",
    "import nltk\n",
    "import os\n",
    "import codecs\n",
    "import matplotlib.pyplot as plt\n",
    "import seaborn as sns\n",
    "from sklearn import feature_extraction\n",
    "from nltk.stem.wordnet import WordNetLemmatizer\n",
    "from nltk.tokenize import word_tokenize\n",
    "%matplotlib inline \n",
    "from IPython.display import display"
   ]
  },
  {
   "cell_type": "markdown",
   "metadata": {},
   "source": [
    "## Load and Preprocess Data"
   ]
  },
  {
   "cell_type": "markdown",
   "metadata": {
    "ExecuteTime": {
     "end_time": "2020-10-09T08:07:20.050821Z",
     "start_time": "2020-10-09T08:07:20.045828Z"
    }
   },
   "source": [
    "### Loading data"
   ]
  },
  {
   "cell_type": "code",
   "execution_count": 2,
   "metadata": {
    "ExecuteTime": {
     "end_time": "2020-10-09T20:47:49.521651Z",
     "start_time": "2020-10-09T20:47:43.261884Z"
    }
   },
   "outputs": [],
   "source": [
    "tsv_path = r'C:\\Users\\Personal\\Desktop\\Faktion\\in.tsv'\n",
    "\n",
    "df = pd.read_table(tsv_path,sep='\\t', header=None, names=['filename','keys','text_djvu','text_tesseract','text_textract','text_best'])"
   ]
  },
  {
   "cell_type": "code",
   "execution_count": 3,
   "metadata": {},
   "outputs": [],
   "source": [
    "df.drop(['keys','text_djvu','text_tesseract', 'text_textract'], axis=1, inplace=True)  "
   ]
  },
  {
   "cell_type": "code",
   "execution_count": 4,
   "metadata": {},
   "outputs": [
    {
     "data": {
      "text/html": [
       "<div>\n",
       "<style scoped>\n",
       "    .dataframe tbody tr th:only-of-type {\n",
       "        vertical-align: middle;\n",
       "    }\n",
       "\n",
       "    .dataframe tbody tr th {\n",
       "        vertical-align: top;\n",
       "    }\n",
       "\n",
       "    .dataframe thead th {\n",
       "        text-align: right;\n",
       "    }\n",
       "</style>\n",
       "<table border=\"1\" class=\"dataframe\">\n",
       "  <thead>\n",
       "    <tr style=\"text-align: right;\">\n",
       "      <th></th>\n",
       "      <th>filename</th>\n",
       "      <th>text_best</th>\n",
       "    </tr>\n",
       "  </thead>\n",
       "  <tbody>\n",
       "    <tr>\n",
       "      <th>0</th>\n",
       "      <td>008482cf51383c158b54e593cfa5fbf7.pdf</td>\n",
       "      <td>TAR\\n1\\nAugust 2016\\nTrustees' Annual Report f...</td>\n",
       "    </tr>\n",
       "    <tr>\n",
       "      <th>1</th>\n",
       "      <td>009fab39d746267b6de8428366fe4b02.pdf</td>\n",
       "      <td>\\n; Na {if anv)\\n{\\noA el\\nC 3 QIC [1€d C\\nf (...</td>\n",
       "    </tr>\n",
       "  </tbody>\n",
       "</table>\n",
       "</div>"
      ],
      "text/plain": [
       "                               filename  \\\n",
       "0  008482cf51383c158b54e593cfa5fbf7.pdf   \n",
       "1  009fab39d746267b6de8428366fe4b02.pdf   \n",
       "\n",
       "                                           text_best  \n",
       "0  TAR\\n1\\nAugust 2016\\nTrustees' Annual Report f...  \n",
       "1  \\n; Na {if anv)\\n{\\noA el\\nC 3 QIC [1€d C\\nf (...  "
      ]
     },
     "execution_count": 4,
     "metadata": {},
     "output_type": "execute_result"
    }
   ],
   "source": [
    "df.head(2)"
   ]
  },
  {
   "cell_type": "markdown",
   "metadata": {},
   "source": [
    "### Remove Duplicates"
   ]
  },
  {
   "cell_type": "code",
   "execution_count": 5,
   "metadata": {
    "ExecuteTime": {
     "end_time": "2020-10-09T20:47:50.144566Z",
     "start_time": "2020-10-09T20:47:49.587402Z"
    }
   },
   "outputs": [
    {
     "data": {
      "text/html": [
       "<div>\n",
       "<style scoped>\n",
       "    .dataframe tbody tr th:only-of-type {\n",
       "        vertical-align: middle;\n",
       "    }\n",
       "\n",
       "    .dataframe tbody tr th {\n",
       "        vertical-align: top;\n",
       "    }\n",
       "\n",
       "    .dataframe thead th {\n",
       "        text-align: right;\n",
       "    }\n",
       "</style>\n",
       "<table border=\"1\" class=\"dataframe\">\n",
       "  <thead>\n",
       "    <tr style=\"text-align: right;\">\n",
       "      <th></th>\n",
       "      <th>filename</th>\n",
       "      <th>text_best</th>\n",
       "    </tr>\n",
       "  </thead>\n",
       "  <tbody>\n",
       "    <tr>\n",
       "      <th>count</th>\n",
       "      <td>1729</td>\n",
       "      <td>1729</td>\n",
       "    </tr>\n",
       "    <tr>\n",
       "      <th>unique</th>\n",
       "      <td>1729</td>\n",
       "      <td>1728</td>\n",
       "    </tr>\n",
       "    <tr>\n",
       "      <th>top</th>\n",
       "      <td>154d01224d9939d6b12a1d71bd531efe.pdf</td>\n",
       "      <td>St John the Evangelist\\nUpper St Leonards\\n{;:...</td>\n",
       "    </tr>\n",
       "    <tr>\n",
       "      <th>freq</th>\n",
       "      <td>1</td>\n",
       "      <td>2</td>\n",
       "    </tr>\n",
       "  </tbody>\n",
       "</table>\n",
       "</div>"
      ],
      "text/plain": [
       "                                    filename  \\\n",
       "count                                   1729   \n",
       "unique                                  1729   \n",
       "top     154d01224d9939d6b12a1d71bd531efe.pdf   \n",
       "freq                                       1   \n",
       "\n",
       "                                                text_best  \n",
       "count                                                1729  \n",
       "unique                                               1728  \n",
       "top     St John the Evangelist\\nUpper St Leonards\\n{;:...  \n",
       "freq                                                    2  "
      ]
     },
     "execution_count": 5,
     "metadata": {},
     "output_type": "execute_result"
    }
   ],
   "source": [
    "#check duplicates\n",
    "df.describe(include='all')"
   ]
  },
  {
   "cell_type": "code",
   "execution_count": 6,
   "metadata": {
    "ExecuteTime": {
     "end_time": "2020-10-09T20:47:50.900896Z",
     "start_time": "2020-10-09T20:47:50.145921Z"
    }
   },
   "outputs": [],
   "source": [
    "#drop duplicates in text_best\n",
    "df.drop_duplicates(['text_best'], inplace = True)"
   ]
  },
  {
   "cell_type": "code",
   "execution_count": 7,
   "metadata": {
    "ExecuteTime": {
     "end_time": "2020-10-09T20:47:50.985655Z",
     "start_time": "2020-10-09T20:47:50.908240Z"
    }
   },
   "outputs": [
    {
     "data": {
      "text/html": [
       "<div>\n",
       "<style scoped>\n",
       "    .dataframe tbody tr th:only-of-type {\n",
       "        vertical-align: middle;\n",
       "    }\n",
       "\n",
       "    .dataframe tbody tr th {\n",
       "        vertical-align: top;\n",
       "    }\n",
       "\n",
       "    .dataframe thead th {\n",
       "        text-align: right;\n",
       "    }\n",
       "</style>\n",
       "<table border=\"1\" class=\"dataframe\">\n",
       "  <thead>\n",
       "    <tr style=\"text-align: right;\">\n",
       "      <th></th>\n",
       "      <th>filename</th>\n",
       "      <th>text_best</th>\n",
       "    </tr>\n",
       "  </thead>\n",
       "  <tbody>\n",
       "    <tr>\n",
       "      <th>count</th>\n",
       "      <td>1728</td>\n",
       "      <td>1728</td>\n",
       "    </tr>\n",
       "    <tr>\n",
       "      <th>unique</th>\n",
       "      <td>1728</td>\n",
       "      <td>1728</td>\n",
       "    </tr>\n",
       "    <tr>\n",
       "      <th>top</th>\n",
       "      <td>154d01224d9939d6b12a1d71bd531efe.pdf</td>\n",
       "      <td>Charity Registration No. 1076483\\nCompany Regi...</td>\n",
       "    </tr>\n",
       "    <tr>\n",
       "      <th>freq</th>\n",
       "      <td>1</td>\n",
       "      <td>1</td>\n",
       "    </tr>\n",
       "  </tbody>\n",
       "</table>\n",
       "</div>"
      ],
      "text/plain": [
       "                                    filename  \\\n",
       "count                                   1728   \n",
       "unique                                  1728   \n",
       "top     154d01224d9939d6b12a1d71bd531efe.pdf   \n",
       "freq                                       1   \n",
       "\n",
       "                                                text_best  \n",
       "count                                                1728  \n",
       "unique                                               1728  \n",
       "top     Charity Registration No. 1076483\\nCompany Regi...  \n",
       "freq                                                    1  "
      ]
     },
     "execution_count": 7,
     "metadata": {},
     "output_type": "execute_result"
    }
   ],
   "source": [
    "#confirm if duplicates have been dropped \n",
    "df.describe(include='all')"
   ]
  },
  {
   "cell_type": "code",
   "execution_count": 8,
   "metadata": {
    "ExecuteTime": {
     "end_time": "2020-10-09T08:53:21.910762Z",
     "start_time": "2020-10-09T08:53:21.902759Z"
    }
   },
   "outputs": [
    {
     "data": {
      "text/plain": [
       "(1728, 2)"
      ]
     },
     "execution_count": 8,
     "metadata": {},
     "output_type": "execute_result"
    }
   ],
   "source": [
    "df.shape"
   ]
  },
  {
   "cell_type": "markdown",
   "metadata": {
    "ExecuteTime": {
     "end_time": "2020-10-09T08:37:59.667925Z",
     "start_time": "2020-10-09T08:37:59.664929Z"
    }
   },
   "source": [
    "### Remove Nulls"
   ]
  },
  {
   "cell_type": "code",
   "execution_count": 9,
   "metadata": {
    "ExecuteTime": {
     "end_time": "2020-10-09T20:48:17.469764Z",
     "start_time": "2020-10-09T20:48:17.446405Z"
    }
   },
   "outputs": [
    {
     "data": {
      "text/plain": [
       "filename     0\n",
       "text_best    0\n",
       "dtype: int64"
      ]
     },
     "execution_count": 9,
     "metadata": {},
     "output_type": "execute_result"
    }
   ],
   "source": [
    "#check for nulls\n",
    "df.isnull().sum()"
   ]
  },
  {
   "cell_type": "code",
   "execution_count": 10,
   "metadata": {
    "ExecuteTime": {
     "end_time": "2020-10-09T20:48:19.653865Z",
     "start_time": "2020-10-09T20:48:19.623089Z"
    }
   },
   "outputs": [],
   "source": [
    "#drop nulls from text_best\n",
    "#df.dropna(subset = ['text_best'], inplace=True)\n",
    "\n",
    "#alternative method\n",
    "#df = df[df['text_best'].notna()]"
   ]
  },
  {
   "cell_type": "markdown",
   "metadata": {
    "ExecuteTime": {
     "end_time": "2020-10-09T08:35:21.429627Z",
     "start_time": "2020-10-09T08:35:21.424625Z"
    }
   },
   "source": [
    "### Clean text_best column"
   ]
  },
  {
   "cell_type": "code",
   "execution_count": 11,
   "metadata": {
    "ExecuteTime": {
     "end_time": "2020-10-09T21:15:57.452096Z",
     "start_time": "2020-10-09T21:15:57.437711Z"
    }
   },
   "outputs": [
    {
     "data": {
      "text/plain": [
       "\"TAR\\\\n1\\\\nAugust 2016\\\\nTrustees' Annual Report for the period\\\\nFrom\\\\nPeriod start date\\\\nTo\\\\nPeriod end date\\\\n30\\\\n04\\\\n2015\\\\n29\\\\n04\\\\n2016\\\\nSection A\\\\nReference and administration details\\\\nCharity name\\\\nPC Nicola Hughes Memorial Fund\\\\nOther names charity is known by\\\\nRegistered charity number (if any) 1156398\\\\nCharity's principal address Unit 1, Block B, Gatehead business Park\\\\nDelph New Road\\\\nOldham\\\\nPostcode\\\\nOL3 5DE\\\\nNames of the charity trustees who manage the charity\\\\nTrustee name\\\\nOffice (if any)\\\\nDates acted if not for whole\\\\nyear\\\\nName of person (or body) entitled\\\\nto appoint trustee (if any)\\\\n1 Bryndon Hughes Chair\\\\n2\\\\n3\\\\n4\\\\n5\\\\n6\\\\n7\\\\n8\\\\n9\\\\n10\\\\n11\\\\n12\\\\n13\\\\n14\\\\n15\\\\n16\\\\n17\\\\nNames of the trustees for the charity, if any, (for example, any custodian trustees)\\\\nName\\\\nDates acted if not for whole year\\\\nRichard Bartlett\\\\nMark Brook\\\\nTAR\\\\n2\\\\nAugust 2016\\\\nNames and addresses of advisers (Optional information)\\\\nType of adviser\\\\nName\\\\nAddress\\\\nLegal Advisor\\\\nJohn Ainley\\\\nNorth Ainley Halliwell\""
      ]
     },
     "execution_count": 11,
     "metadata": {},
     "output_type": "execute_result"
    }
   ],
   "source": [
    "df.iloc[0,-1][0:1000]"
   ]
  },
  {
   "cell_type": "code",
   "execution_count": 12,
   "metadata": {
    "ExecuteTime": {
     "end_time": "2020-10-09T20:48:40.519783Z",
     "start_time": "2020-10-09T20:48:39.509161Z"
    }
   },
   "outputs": [],
   "source": [
    "#Remove \\n \n",
    "df['best_clean'] = df['text_best'].replace(r'\\\\n',' ', regex=True)"
   ]
  },
  {
   "cell_type": "code",
   "execution_count": 13,
   "metadata": {
    "ExecuteTime": {
     "end_time": "2020-10-09T20:48:43.165839Z",
     "start_time": "2020-10-09T20:48:40.524956Z"
    }
   },
   "outputs": [],
   "source": [
    "#Remove special characters and extra spaces\n",
    "df['best_clean'] = df['best_clean'].replace(r'➢','', regex=True)\n",
    "df['best_clean'] = df['best_clean'].replace(r'•','', regex=True)\n",
    "df['best_clean'] = df['best_clean'].replace(r'-','', regex=True)\n",
    "df['best_clean'] = df['best_clean'].replace(r'[^A-Za-z0-9]+',' ', regex=True)\n",
    "df['best_clean'] = df['best_clean'].replace(r'\\s\\s+',' ', regex=True)"
   ]
  },
  {
   "cell_type": "code",
   "execution_count": 14,
   "metadata": {
    "ExecuteTime": {
     "end_time": "2020-10-09T21:16:01.323314Z",
     "start_time": "2020-10-09T21:16:01.319820Z"
    }
   },
   "outputs": [
    {
     "data": {
      "text/plain": [
       "'TAR 1 August 2016 Trustees Annual Report for the period From Period start date To Period end date 30 04 2015 29 04 2016 Section A Reference and administration details Charity name PC Nicola Hughes Memorial Fund Other names charity is known by Registered charity number if any 1156398 Charity s principal address Unit 1 Block B Gatehead business Park Delph New Road Oldham Postcode OL3 5DE Names of the charity trustees who manage the charity Trustee name Office if any Dates acted if not for whole year Name of person or body entitled to appoint trustee if any 1 Bryndon Hughes Chair 2 3 4 5 6 7 8 9 10 11 12 13 14 15 16 17 Names of the trustees for the charity if any for example any custodian trustees Name Dates acted if not for whole year Richard Bartlett Mark Brook TAR 2 August 2016 Names and addresses of advisers Optional information Type of adviser Name Address Legal Advisor John Ainley North Ainley Halliwell Solicitors Clegg St Oldham OL1 1PS Accountant David Richardson Richardson Accoun'"
      ]
     },
     "execution_count": 14,
     "metadata": {},
     "output_type": "execute_result"
    }
   ],
   "source": [
    "df.iloc[0,-1][0:1000]"
   ]
  },
  {
   "cell_type": "markdown",
   "metadata": {
    "ExecuteTime": {
     "end_time": "2020-10-09T09:29:16.051726Z",
     "start_time": "2020-10-09T09:29:16.046723Z"
    }
   },
   "source": [
    "### Stopwords and Punctuations"
   ]
  },
  {
   "cell_type": "code",
   "execution_count": 15,
   "metadata": {
    "ExecuteTime": {
     "end_time": "2020-10-09T20:48:54.653257Z",
     "start_time": "2020-10-09T20:48:54.631004Z"
    }
   },
   "outputs": [],
   "source": [
    "import nltk\n",
    "from nltk.corpus import stopwords\n",
    "import string\n",
    "\n",
    "stop_words = set(stopwords.words('english')) \n",
    "stop_words = list(stop_words)\n",
    "punctuations = list(string.punctuation)\n",
    "stop_words = stop_words + punctuations\n",
    "\n",
    "custom_stop_words = []\n",
    "\n",
    "for word in custom_stop_words:\n",
    "    if word not in stop_words:\n",
    "        stop_words.append(word)"
   ]
  },
  {
   "cell_type": "markdown",
   "metadata": {},
   "source": [
    "### Tokenize"
   ]
  },
  {
   "cell_type": "code",
   "execution_count": 16,
   "metadata": {
    "ExecuteTime": {
     "end_time": "2020-10-09T20:58:22.542101Z",
     "start_time": "2020-10-09T20:58:22.517691Z"
    }
   },
   "outputs": [],
   "source": [
    "# from tqdm import tqdm, tqdm_notebook\n",
    "# tqdm.pandas(tqdm_notebook)"
   ]
  },
  {
   "cell_type": "code",
   "execution_count": 17,
   "metadata": {
    "ExecuteTime": {
     "end_time": "2020-10-09T21:01:23.764642Z",
     "start_time": "2020-10-09T20:58:56.413786Z"
    }
   },
   "outputs": [],
   "source": [
    "from nltk.tokenize import word_tokenize\n",
    "\n",
    "df['tokens'] = df['best_clean'].map(lambda x: word_tokenize(x))"
   ]
  },
  {
   "cell_type": "code",
   "execution_count": 18,
   "metadata": {
    "ExecuteTime": {
     "end_time": "2020-10-09T21:16:10.710301Z",
     "start_time": "2020-10-09T21:16:10.699610Z"
    }
   },
   "outputs": [
    {
     "data": {
      "text/plain": [
       "['TAR', '1', 'August', '2016', 'Trustees']"
      ]
     },
     "execution_count": 18,
     "metadata": {},
     "output_type": "execute_result"
    }
   ],
   "source": [
    "df.iloc[0,-1][:5]"
   ]
  },
  {
   "cell_type": "code",
   "execution_count": 19,
   "metadata": {
    "ExecuteTime": {
     "end_time": "2020-10-09T21:12:29.978022Z",
     "start_time": "2020-10-09T21:12:29.967809Z"
    }
   },
   "outputs": [],
   "source": [
    "#insert a column with count of words\n",
    "df['count_token'] = df['tokens'].map(lambda x: len(x)) "
   ]
  },
  {
   "cell_type": "code",
   "execution_count": 20,
   "metadata": {
    "ExecuteTime": {
     "end_time": "2020-10-09T21:13:49.836402Z",
     "start_time": "2020-10-09T21:13:48.391452Z"
    }
   },
   "outputs": [],
   "source": [
    "#insert a column with unique count of words\n",
    "df['count_unique_tokens'] = df['tokens'].map(lambda x: len(set(x)))"
   ]
  },
  {
   "cell_type": "code",
   "execution_count": 21,
   "metadata": {
    "ExecuteTime": {
     "end_time": "2020-10-09T21:16:44.611168Z",
     "start_time": "2020-10-09T21:16:44.580440Z"
    }
   },
   "outputs": [
    {
     "data": {
      "text/html": [
       "<div>\n",
       "<style scoped>\n",
       "    .dataframe tbody tr th:only-of-type {\n",
       "        vertical-align: middle;\n",
       "    }\n",
       "\n",
       "    .dataframe tbody tr th {\n",
       "        vertical-align: top;\n",
       "    }\n",
       "\n",
       "    .dataframe thead th {\n",
       "        text-align: right;\n",
       "    }\n",
       "</style>\n",
       "<table border=\"1\" class=\"dataframe\">\n",
       "  <thead>\n",
       "    <tr style=\"text-align: right;\">\n",
       "      <th></th>\n",
       "      <th>filename</th>\n",
       "      <th>text_best</th>\n",
       "      <th>best_clean</th>\n",
       "      <th>tokens</th>\n",
       "      <th>count_token</th>\n",
       "      <th>count_unique_tokens</th>\n",
       "    </tr>\n",
       "  </thead>\n",
       "  <tbody>\n",
       "    <tr>\n",
       "      <th>0</th>\n",
       "      <td>008482cf51383c158b54e593cfa5fbf7.pdf</td>\n",
       "      <td>TAR\\n1\\nAugust 2016\\nTrustees' Annual Report f...</td>\n",
       "      <td>TAR 1 August 2016 Trustees Annual Report for t...</td>\n",
       "      <td>[TAR, 1, August, 2016, Trustees, Annual, Repor...</td>\n",
       "      <td>1618</td>\n",
       "      <td>687</td>\n",
       "    </tr>\n",
       "    <tr>\n",
       "      <th>1</th>\n",
       "      <td>009fab39d746267b6de8428366fe4b02.pdf</td>\n",
       "      <td>\\n; Na {if anv)\\n{\\noA el\\nC 3 QIC [1€d C\\nf (...</td>\n",
       "      <td>Na if anv oA el C 3 QIC 1 d C f S Receipts an...</td>\n",
       "      <td>[Na, if, anv, oA, el, C, 3, QIC, 1, d, C, f, S...</td>\n",
       "      <td>1083</td>\n",
       "      <td>520</td>\n",
       "    </tr>\n",
       "  </tbody>\n",
       "</table>\n",
       "</div>"
      ],
      "text/plain": [
       "                               filename  \\\n",
       "0  008482cf51383c158b54e593cfa5fbf7.pdf   \n",
       "1  009fab39d746267b6de8428366fe4b02.pdf   \n",
       "\n",
       "                                           text_best  \\\n",
       "0  TAR\\n1\\nAugust 2016\\nTrustees' Annual Report f...   \n",
       "1  \\n; Na {if anv)\\n{\\noA el\\nC 3 QIC [1€d C\\nf (...   \n",
       "\n",
       "                                          best_clean  \\\n",
       "0  TAR 1 August 2016 Trustees Annual Report for t...   \n",
       "1   Na if anv oA el C 3 QIC 1 d C f S Receipts an...   \n",
       "\n",
       "                                              tokens  count_token  \\\n",
       "0  [TAR, 1, August, 2016, Trustees, Annual, Repor...         1618   \n",
       "1  [Na, if, anv, oA, el, C, 3, QIC, 1, d, C, f, S...         1083   \n",
       "\n",
       "   count_unique_tokens  \n",
       "0                  687  \n",
       "1                  520  "
      ]
     },
     "execution_count": 21,
     "metadata": {},
     "output_type": "execute_result"
    }
   ],
   "source": [
    "df.head(2)"
   ]
  },
  {
   "cell_type": "markdown",
   "metadata": {},
   "source": [
    "###  Total and unique word count \n",
    "Most documents are about 6000 words (1600 unique words) in length.The tails towards the right end show are caused by outliers. "
   ]
  },
  {
   "cell_type": "code",
   "execution_count": 22,
   "metadata": {
    "ExecuteTime": {
     "end_time": "2020-10-09T21:44:15.675529Z",
     "start_time": "2020-10-09T21:44:13.146696Z"
    }
   },
   "outputs": [
    {
     "data": {
      "text/plain": [
       "count     1728.000000\n",
       "mean      6331.876157\n",
       "std       6194.251146\n",
       "min        256.000000\n",
       "25%       2136.750000\n",
       "50%       3807.000000\n",
       "75%       8416.500000\n",
       "max      49143.000000\n",
       "Name: count_token, dtype: float64"
      ]
     },
     "execution_count": 22,
     "metadata": {},
     "output_type": "execute_result"
    },
    {
     "data": {
      "image/png": "[encoded data removed]",
      "text/plain": [
       "<Figure size 432x288 with 1 Axes>"
      ]
     },
     "metadata": {
      "needs_background": "light"
     },
     "output_type": "display_data"
    }
   ],
   "source": [
    "sns.distplot(df['count_token'], color='b')\n",
    "df['count_token'].describe()"
   ]
  },
  {
   "cell_type": "code",
   "execution_count": 23,
   "metadata": {},
   "outputs": [
    {
     "name": "stdout",
     "output_type": "stream",
     "text": [
      "90% percentile:   15800\n",
      "99.9% percentile: 34102\n"
     ]
    }
   ],
   "source": [
    "print('90% percentile:  ', int(df['count_token'].quantile(.90)))\n",
    "print('99.9% percentile:', int(df['count_token'].quantile(.999)))"
   ]
  },
  {
   "cell_type": "code",
   "execution_count": 24,
   "metadata": {
    "ExecuteTime": {
     "end_time": "2020-10-09T21:45:11.136515Z",
     "start_time": "2020-10-09T21:45:10.783858Z"
    }
   },
   "outputs": [
    {
     "data": {
      "text/plain": [
       "count    1728.000000\n",
       "mean     1574.192708\n",
       "std      1064.019191\n",
       "min       119.000000\n",
       "25%       794.500000\n",
       "50%      1188.000000\n",
       "75%      2125.250000\n",
       "max      7078.000000\n",
       "Name: count_unique_tokens, dtype: float64"
      ]
     },
     "execution_count": 24,
     "metadata": {},
     "output_type": "execute_result"
    },
    {
     "data": {
      "image/png": "[encoded data removed]",
      "text/plain": [
       "<Figure size 432x288 with 1 Axes>"
      ]
     },
     "metadata": {
      "needs_background": "light"
     },
     "output_type": "display_data"
    }
   ],
   "source": [
    "sns.distplot(df['count_unique_tokens'], color='b')\n",
    "df['count_unique_tokens'].describe()"
   ]
  },
  {
   "cell_type": "markdown",
   "metadata": {
    "ExecuteTime": {
     "end_time": "2020-10-09T21:48:55.644673Z",
     "start_time": "2020-10-09T21:48:53.557982Z"
    }
   },
   "source": [
    "## Vectorize Data - TF-IDF\n",
    "\n",
    "TF-IDF is used to check how important a word is to a document in a collection or corpus. The importance increases proportionally to the number of times a word appears in the document but is offset by the frequency of the word in the corpus.    \n",
    "\n",
    "Example:\n",
    "\n",
    "Consider a document containing 100 words wherein the word cat appears 3 times. The term frequency (i.e., tf) for cat is then (3 / 100) = 0.03. Now, assume we have 10 million documents and the word cat appears in one thousand of these. Then, the inverse document frequency (i.e., idf) is calculated as log(10,000,000 / 1,000) = 4. Thus, the Tf-idf weight is the product of these quantities: 0.03 * 4 = 0.12.  \n",
    "\n",
    "Now that we have pre-processed the data, it is time to convert it into a format that can be handled by our algorithms. For this purpose we will be using tf-idf. This will convert our string formatted data into a measure of how important each word is to the instance out of the literature as a whole."
   ]
  },
  {
   "cell_type": "code",
   "execution_count": 25,
   "metadata": {
    "ExecuteTime": {
     "end_time": "2020-10-09T21:49:20.251715Z",
     "start_time": "2020-10-09T21:49:19.840313Z"
    }
   },
   "outputs": [],
   "source": [
    "from sklearn.feature_extraction.text import TfidfVectorizer\n",
    "\n",
    "data = df['best_clean']\n",
    "\n",
    "tfidf_vectorizer = TfidfVectorizer(stop_words=stop_words, lowercase=True, ngram_range=(1,2), max_df=0.85, max_features=10000)\n",
    "\n",
    "X = tfidf_vectorizer.fit_transform(data)"
   ]
  },
  {
   "cell_type": "code",
   "execution_count": 26,
   "metadata": {},
   "outputs": [
    {
     "data": {
      "text/html": [
       "<div>\n",
       "<style scoped>\n",
       "    .dataframe tbody tr th:only-of-type {\n",
       "        vertical-align: middle;\n",
       "    }\n",
       "\n",
       "    .dataframe tbody tr th {\n",
       "        vertical-align: top;\n",
       "    }\n",
       "\n",
       "    .dataframe thead th {\n",
       "        text-align: right;\n",
       "    }\n",
       "</style>\n",
       "<table border=\"1\" class=\"dataframe\">\n",
       "  <thead>\n",
       "    <tr style=\"text-align: right;\">\n",
       "      <th></th>\n",
       "      <th>00</th>\n",
       "      <th>00 00</th>\n",
       "      <th>00 100</th>\n",
       "      <th>00 20</th>\n",
       "      <th>00 50</th>\n",
       "      <th>00 essential</th>\n",
       "      <th>00 monthly</th>\n",
       "      <th>00 total</th>\n",
       "      <th>000</th>\n",
       "      <th>000 00</th>\n",
       "      <th>...</th>\n",
       "      <th>yet</th>\n",
       "      <th>yield</th>\n",
       "      <th>ymca</th>\n",
       "      <th>york</th>\n",
       "      <th>yorkshire</th>\n",
       "      <th>young</th>\n",
       "      <th>young people</th>\n",
       "      <th>younger</th>\n",
       "      <th>youth</th>\n",
       "      <th>zambia</th>\n",
       "    </tr>\n",
       "  </thead>\n",
       "  <tbody>\n",
       "    <tr>\n",
       "      <th>0</th>\n",
       "      <td>0.050419</td>\n",
       "      <td>0.0</td>\n",
       "      <td>0.0</td>\n",
       "      <td>0.0</td>\n",
       "      <td>0.0</td>\n",
       "      <td>0.0</td>\n",
       "      <td>0.0</td>\n",
       "      <td>0.0</td>\n",
       "      <td>0.035659</td>\n",
       "      <td>0.085718</td>\n",
       "      <td>...</td>\n",
       "      <td>0.000000</td>\n",
       "      <td>0.000000</td>\n",
       "      <td>0.0</td>\n",
       "      <td>0.056591</td>\n",
       "      <td>0.0</td>\n",
       "      <td>0.014016</td>\n",
       "      <td>0.016881</td>\n",
       "      <td>0.0</td>\n",
       "      <td>0.000000</td>\n",
       "      <td>0.0</td>\n",
       "    </tr>\n",
       "    <tr>\n",
       "      <th>1</th>\n",
       "      <td>0.000000</td>\n",
       "      <td>0.0</td>\n",
       "      <td>0.0</td>\n",
       "      <td>0.0</td>\n",
       "      <td>0.0</td>\n",
       "      <td>0.0</td>\n",
       "      <td>0.0</td>\n",
       "      <td>0.0</td>\n",
       "      <td>0.000000</td>\n",
       "      <td>0.000000</td>\n",
       "      <td>...</td>\n",
       "      <td>0.000000</td>\n",
       "      <td>0.000000</td>\n",
       "      <td>0.0</td>\n",
       "      <td>0.000000</td>\n",
       "      <td>0.0</td>\n",
       "      <td>0.000000</td>\n",
       "      <td>0.000000</td>\n",
       "      <td>0.0</td>\n",
       "      <td>0.023512</td>\n",
       "      <td>0.0</td>\n",
       "    </tr>\n",
       "    <tr>\n",
       "      <th>2</th>\n",
       "      <td>0.000000</td>\n",
       "      <td>0.0</td>\n",
       "      <td>0.0</td>\n",
       "      <td>0.0</td>\n",
       "      <td>0.0</td>\n",
       "      <td>0.0</td>\n",
       "      <td>0.0</td>\n",
       "      <td>0.0</td>\n",
       "      <td>0.053274</td>\n",
       "      <td>0.000000</td>\n",
       "      <td>...</td>\n",
       "      <td>0.002355</td>\n",
       "      <td>0.007026</td>\n",
       "      <td>0.0</td>\n",
       "      <td>0.000000</td>\n",
       "      <td>0.0</td>\n",
       "      <td>0.000000</td>\n",
       "      <td>0.000000</td>\n",
       "      <td>0.0</td>\n",
       "      <td>0.000000</td>\n",
       "      <td>0.0</td>\n",
       "    </tr>\n",
       "  </tbody>\n",
       "</table>\n",
       "<p>3 rows × 10000 columns</p>\n",
       "</div>"
      ],
      "text/plain": [
       "         00  00 00  00 100  00 20  00 50  00 essential  00 monthly  00 total  \\\n",
       "0  0.050419    0.0     0.0    0.0    0.0           0.0         0.0       0.0   \n",
       "1  0.000000    0.0     0.0    0.0    0.0           0.0         0.0       0.0   \n",
       "2  0.000000    0.0     0.0    0.0    0.0           0.0         0.0       0.0   \n",
       "\n",
       "        000    000 00  ...       yet     yield  ymca      york  yorkshire  \\\n",
       "0  0.035659  0.085718  ...  0.000000  0.000000   0.0  0.056591        0.0   \n",
       "1  0.000000  0.000000  ...  0.000000  0.000000   0.0  0.000000        0.0   \n",
       "2  0.053274  0.000000  ...  0.002355  0.007026   0.0  0.000000        0.0   \n",
       "\n",
       "      young  young people  younger     youth  zambia  \n",
       "0  0.014016      0.016881      0.0  0.000000     0.0  \n",
       "1  0.000000      0.000000      0.0  0.023512     0.0  \n",
       "2  0.000000      0.000000      0.0  0.000000     0.0  \n",
       "\n",
       "[3 rows x 10000 columns]"
      ]
     },
     "execution_count": 26,
     "metadata": {},
     "output_type": "execute_result"
    }
   ],
   "source": [
    "tfidf_array = X.toarray()\n",
    "pd.DataFrame(tfidf_array, columns=tfidf_vectorizer.get_feature_names()).head(3)"
   ]
  },
  {
   "cell_type": "code",
   "execution_count": 27,
   "metadata": {},
   "outputs": [
    {
     "data": {
      "text/plain": [
       "(1728, 10000)"
      ]
     },
     "execution_count": 27,
     "metadata": {},
     "output_type": "execute_result"
    }
   ],
   "source": [
    "X.shape"
   ]
  },
  {
   "cell_type": "markdown",
   "metadata": {},
   "source": [
    "## PCA\n",
    "\n",
    "Fewer input variables can result in a simpler predictive model that may have better performance when making predictions on new data. To reduce noise and outliers we do Principal Component Analysis.  \n",
    "\n",
    "Perhaps the most popular technique for dimensionality reduction in machine learning is Principal Component Analysis, or PCA for short. This is a technique that comes from the field of linear algebra and can be used as a data preparation technique to create a projection of a dataset prior to fitting a model.\n",
    "\n",
    "We can consider the columns of data representing dimensions on an n-dimensional feature space and the rows of data as points in that space. This is a useful geometric interpretation of a dataset\n",
    "\n",
    "This can dramatically impact the performance of machine learning algorithms fit on data with many input features, generally referred to as the “curse of dimensionality.”  \n",
    "\n",
    "Therefore, it is often desirable to reduce the number of input features. This reduces the number of dimensions of the feature space, hence the name “dimensionality reduction.”  \n",
    "\n",
    "A popular approach to dimensionality reduction is to use techniques from the field of linear algebra. This is often called “feature projection” and the algorithms used are referred to as “projection methods.”  \n",
    "\n",
    "Projection methods seek to reduce the number of dimensions in the feature space whilst also preserving the most important structure or relationships between the variables observed in the data.  \n",
    "\n",
    "The reason for keeping a large number of dimensions with PCA, you don’t destroy much of the information, but hopefully will remove some noise/outliers from the data, and make the clustering problem easier for k-means.\n",
    "\n",
    "The reason for this is that by keeping a large number of dimensions with PCA, you don’t destroy much of the information, but hopefully will remove some noise/outliers from the data(whilst retaining the essence of the original data.), and make the clustering problem easier for k-means."
   ]
  },
  {
   "cell_type": "code",
   "execution_count": 28,
   "metadata": {},
   "outputs": [
    {
     "data": {
      "text/plain": [
       "(1728, 922)"
      ]
     },
     "execution_count": 28,
     "metadata": {},
     "output_type": "execute_result"
    }
   ],
   "source": [
    "from sklearn.decomposition import PCA\n",
    "\n",
    "#reduce the dimensions while still keeping 95% variance\n",
    "pca = PCA(n_components=0.95, random_state=42)\n",
    "X_reduced= pca.fit_transform(X.toarray())\n",
    "X_reduced.shape"
   ]
  },
  {
   "cell_type": "markdown",
   "metadata": {
    "ExecuteTime": {
     "end_time": "2020-10-09T21:51:58.720486Z",
     "start_time": "2020-10-09T21:51:58.678586Z"
    }
   },
   "source": [
    "## Clustering with K-Means\n",
    "Every data point is allocated to each of the clusters through reducing the in-cluster sum of squares.  \n",
    "The way kmeans algorithm works is as follows:\n",
    "Specify number of clusters K.\n",
    "Initialize centroids by first shuffling the dataset and then randomly selecting K data points for the centroids without replacement.\n",
    "Keep iterating until there is no change to the centroids. i.e assignment of data points to clusters isn’t changing.\n",
    "Compute the sum of the squared distance between data points and all centroids.\n",
    "Assign each data point to the closest cluster (centroid).\n",
    "Compute the centroids for the clusters by taking the average of the all data points that belong to each cluster.\n",
    "\n"
   ]
  },
  {
   "cell_type": "code",
   "execution_count": 29,
   "metadata": {
    "ExecuteTime": {
     "end_time": "2020-10-09T21:50:46.058138Z",
     "start_time": "2020-10-09T21:50:46.034010Z"
    }
   },
   "outputs": [
    {
     "data": {
      "image/png": "[encoded data removed]",
      "text/plain": [
       "<Figure size 432x288 with 1 Axes>"
      ]
     },
     "metadata": {
      "needs_background": "light"
     },
     "output_type": "display_data"
    }
   ],
   "source": [
    "#Applying Elbow Method to find the optimal number of clusters\n",
    "from sklearn.cluster import KMeans\n",
    "\n",
    "Sum_of_squared_distances = []\n",
    "K = range(2, 50)\n",
    "\n",
    "for k in K:\n",
    "   km = KMeans(n_clusters=k, max_iter=200, n_init=10)\n",
    "   km = km.fit(X_reduced)\n",
    "   Sum_of_squared_distances.append(km.inertia_)\n",
    "\n",
    "plt.plot(K, Sum_of_squared_distances, 'bx-')\n",
    "plt.xlabel('k')\n",
    "plt.ylabel('Sum_of_squared_distances')\n",
    "plt.title('Elbow Method For Optimal k')\n",
    "plt.show()"
   ]
  },
  {
   "cell_type": "code",
   "execution_count": 30,
   "metadata": {},
   "outputs": [],
   "source": [
    "k = 10\n",
    "kmeans = KMeans(n_clusters=k, random_state=42)\n",
    "y_pred = kmeans.fit_predict(X_reduced)\n",
    "df['y'] = y_pred"
   ]
  },
  {
   "cell_type": "code",
   "execution_count": 31,
   "metadata": {
    "cell_style": "split"
   },
   "outputs": [
    {
     "data": {
      "image/png": "[encoded data removed]",
      "text/plain": [
       "<Figure size 432x288 with 1 Axes>"
      ]
     },
     "metadata": {
      "needs_background": "light"
     },
     "output_type": "display_data"
    }
   ],
   "source": [
    "sns.distplot(kmeans.labels_, bins=k, color = \"b\", kde = False)\n",
    "plt.show()"
   ]
  },
  {
   "cell_type": "code",
   "execution_count": 32,
   "metadata": {
    "cell_style": "split",
    "scrolled": true
   },
   "outputs": [
    {
     "data": {
      "text/plain": [
       "2    411\n",
       "6    327\n",
       "1    243\n",
       "9    174\n",
       "0    138\n",
       "3    114\n",
       "4    113\n",
       "8     89\n",
       "7     74\n",
       "5     45\n",
       "Name: y, dtype: int64"
      ]
     },
     "execution_count": 32,
     "metadata": {},
     "output_type": "execute_result"
    }
   ],
   "source": [
    "df['y'].value_counts()"
   ]
  },
  {
   "cell_type": "code",
   "execution_count": 33,
   "metadata": {},
   "outputs": [
    {
     "data": {
      "text/plain": [
       "(1728, 922)"
      ]
     },
     "execution_count": 33,
     "metadata": {},
     "output_type": "execute_result"
    }
   ],
   "source": [
    "X_reduced.shape"
   ]
  },
  {
   "cell_type": "markdown",
   "metadata": {},
   "source": [
    "## Dimensionality Reduction with t-SNE   \n",
    "\n",
    "t-distributed Stochastic Neighbor Embedding(t-SNE) is a nonlinear dimensionality reduction technique that is well suited for embedding high dimension data into lower dimensional data (2D or 3D) for data visualization.\n",
    "\n",
    "Using t-SNE we can reduce our high dimensional features vector to 2 dimensions. By using the 2 dimensions as x,y coordinates, the body_text can be plotted  \n",
    "\n",
    "Step 1: t-SNE constructs a probability distribution on pairs in higher dimensions such that similar objects are assigned a higher probability and dissimilar objects are assigned lower probability.\n",
    "Step 2: Then, t-SNE replicates the same probability distribution on lower dimensions iteratively till the Kullback-Leibler divergence is minimized.   \n",
    "\n",
    "Kullback-Leibler divergence is a measure of the difference between the probability distributions from Step1 and Step2. KL divergence is mathematically given as the expected value of the logarithm of the difference of these probability distributions.   \n",
    "t-SNE stands for t-distributed Stochastic Neighbor Embedding, which tells the following :\n",
    "Stochastic → not definite but random probability\n",
    "Neighbor →concerned only about retaining the variance of neighbor points\n",
    "Embedding → plotting data into lower dimensions\n",
    "In short, t-SNE is a machine learning algorithm that generates slightly different results each time on the same data set, focusing on retaining the structure of neighbor points.\n",
    "\n",
    "HYPERPARAMETER TUNING\n",
    "2 parameters that can highly influence the results are\n",
    "a) n_iter: The number of iterations that the algorithm runs\n",
    "b) perplexity: This can be thought of as the number of neighboring points t-SNE must consider\n"
   ]
  },
  {
   "cell_type": "code",
   "execution_count": 34,
   "metadata": {},
   "outputs": [
    {
     "name": "stdout",
     "output_type": "stream",
     "text": [
      "[t-SNE] Computing 301 nearest neighbors...\n",
      "[t-SNE] Indexed 1728 samples in 5.722s...\n",
      "[t-SNE] Computed neighbors for 1728 samples in 61.772s...\n",
      "[t-SNE] Computed conditional probabilities for sample 1000 / 1728\n",
      "[t-SNE] Computed conditional probabilities for sample 1728 / 1728\n",
      "[t-SNE] Mean sigma: 0.413894\n",
      "[t-SNE] KL divergence after 250 iterations with early exaggeration: 61.801510\n",
      "[t-SNE] KL divergence after 1000 iterations: 1.009717\n"
     ]
    }
   ],
   "source": [
    "from sklearn.manifold import TSNE\n",
    "\n",
    "# perplexity: This can be thought of as the number of neighboring points t-SNE must consider\n",
    "tsne = TSNE(verbose=1, perplexity=100, random_state=42)\n",
    "X_embedded = tsne.fit_transform(X.toarray())"
   ]
  },
  {
   "cell_type": "code",
   "execution_count": 35,
   "metadata": {},
   "outputs": [
    {
     "data": {
      "image/png": "[encoded data removed]",
      "text/plain": [
       "<Figure size 504x504 with 1 Axes>"
      ]
     },
     "metadata": {},
     "output_type": "display_data"
    }
   ],
   "source": [
    "%matplotlib inline\n",
    "from matplotlib import pyplot as plt\n",
    "import seaborn as sns\n",
    "\n",
    "# sns settings\n",
    "sns.set(rc={'figure.figsize':(7,7)})\n",
    "\n",
    "# colors\n",
    "palette = sns.hls_palette(10, l=.4, s=.9)\n",
    "\n",
    "# plot\n",
    "sns.scatterplot(X_embedded[:,0], X_embedded[:,1], hue=y_pred, legend='full', palette=palette)\n",
    "plt.title('t-SNE with Kmeans Labels')\n",
    "plt.savefig(\"improved_cluster_tsne.png\")\n",
    "plt.show()"
   ]
  },
  {
   "cell_type": "code",
   "execution_count": 39,
   "metadata": {},
   "outputs": [
    {
     "data": {
      "text/html": [
       "<div>\n",
       "<style scoped>\n",
       "    .dataframe tbody tr th:only-of-type {\n",
       "        vertical-align: middle;\n",
       "    }\n",
       "\n",
       "    .dataframe tbody tr th {\n",
       "        vertical-align: top;\n",
       "    }\n",
       "\n",
       "    .dataframe thead th {\n",
       "        text-align: right;\n",
       "    }\n",
       "</style>\n",
       "<table border=\"1\" class=\"dataframe\">\n",
       "  <thead>\n",
       "    <tr style=\"text-align: right;\">\n",
       "      <th></th>\n",
       "      <th>filename</th>\n",
       "      <th>text_best</th>\n",
       "      <th>best_clean</th>\n",
       "      <th>tokens</th>\n",
       "      <th>count_token</th>\n",
       "      <th>count_unique_tokens</th>\n",
       "      <th>y</th>\n",
       "    </tr>\n",
       "  </thead>\n",
       "  <tbody>\n",
       "    <tr>\n",
       "      <th>86</th>\n",
       "      <td>0be8779b17ed56e34fc5de524972242c.pdf</td>\n",
       "      <td>EC1Y 8AB\\nThree Bridges Free Church\\nREPORT &amp; ...</td>\n",
       "      <td>EC1Y 8AB Three Bridges Free Church REPORT ACCO...</td>\n",
       "      <td>[EC1Y, 8AB, Three, Bridges, Free, Church, REPO...</td>\n",
       "      <td>2209</td>\n",
       "      <td>869</td>\n",
       "      <td>7</td>\n",
       "    </tr>\n",
       "    <tr>\n",
       "      <th>123</th>\n",
       "      <td>1054c3da15aecc8377d153201ce45e98.pdf</td>\n",
       "      <td>First Church of Christ, Scientist, Walton and ...</td>\n",
       "      <td>First Church of Christ Scientist Walton and We...</td>\n",
       "      <td>[First, Church, of, Christ, Scientist, Walton,...</td>\n",
       "      <td>1580</td>\n",
       "      <td>654</td>\n",
       "      <td>7</td>\n",
       "    </tr>\n",
       "    <tr>\n",
       "      <th>144</th>\n",
       "      <td>1383457e753c7c79a1689bc23fba110e.pdf</td>\n",
       "      <td>St Nicholas, Allington, Maidstone ~ Trustees R...</td>\n",
       "      <td>St Nicholas Allington Maidstone Trustees Repor...</td>\n",
       "      <td>[St, Nicholas, Allington, Maidstone, Trustees,...</td>\n",
       "      <td>1716</td>\n",
       "      <td>777</td>\n",
       "      <td>7</td>\n",
       "    </tr>\n",
       "    <tr>\n",
       "      <th>155</th>\n",
       "      <td>154d01224d9939d6b12a1d71bd531efe.pdf</td>\n",
       "      <td>Parish of St Leonards on Sea\\nSt Leonard and S...</td>\n",
       "      <td>Parish of St Leonards on Sea St Leonard and St...</td>\n",
       "      <td>[Parish, of, St, Leonards, on, Sea, St, Leonar...</td>\n",
       "      <td>5261</td>\n",
       "      <td>1639</td>\n",
       "      <td>7</td>\n",
       "    </tr>\n",
       "    <tr>\n",
       "      <th>183</th>\n",
       "      <td>19ea8bf028e1e7ee018bdf01fa533e7d.pdf</td>\n",
       "      <td>www. stbk. org. uk\\nTHE PAROCHIAL CHURCH COUNC...</td>\n",
       "      <td>www stbk org uk THE PAROCHIAL CHURCH COUNCIL O...</td>\n",
       "      <td>[www, stbk, org, uk, THE, PAROCHIAL, CHURCH, C...</td>\n",
       "      <td>7247</td>\n",
       "      <td>2030</td>\n",
       "      <td>7</td>\n",
       "    </tr>\n",
       "    <tr>\n",
       "      <th>...</th>\n",
       "      <td>...</td>\n",
       "      <td>...</td>\n",
       "      <td>...</td>\n",
       "      <td>...</td>\n",
       "      <td>...</td>\n",
       "      <td>...</td>\n",
       "      <td>...</td>\n",
       "    </tr>\n",
       "    <tr>\n",
       "      <th>1648</th>\n",
       "      <td>f224c67af82ba4a32ba74f8d0af89b40.pdf</td>\n",
       "      <td>South Street Evangelical Church\\nCharity no 11...</td>\n",
       "      <td>South Street Evangelical Church Charity no 115...</td>\n",
       "      <td>[South, Street, Evangelical, Church, Charity, ...</td>\n",
       "      <td>6154</td>\n",
       "      <td>1694</td>\n",
       "      <td>7</td>\n",
       "    </tr>\n",
       "    <tr>\n",
       "      <th>1657</th>\n",
       "      <td>f34f805b83446502b8b727dd5266bf6b.pdf</td>\n",
       "      <td>St John the Baptist Church, Knutsford\\nANNUAL ...</td>\n",
       "      <td>St John the Baptist Church Knutsford ANNUAL RE...</td>\n",
       "      <td>[St, John, the, Baptist, Church, Knutsford, AN...</td>\n",
       "      <td>8896</td>\n",
       "      <td>2348</td>\n",
       "      <td>7</td>\n",
       "    </tr>\n",
       "    <tr>\n",
       "      <th>1661</th>\n",
       "      <td>f3aed56de4c9356c0d7a425a246d67b6.pdf</td>\n",
       "      <td>THE PARISH OF ST JAMES COLLIER ROW AND\\nST JOH...</td>\n",
       "      <td>THE PARISH OF ST JAMES COLLIER ROW AND ST JOHN...</td>\n",
       "      <td>[THE, PARISH, OF, ST, JAMES, COLLIER, ROW, AND...</td>\n",
       "      <td>2343</td>\n",
       "      <td>886</td>\n",
       "      <td>7</td>\n",
       "    </tr>\n",
       "    <tr>\n",
       "      <th>1695</th>\n",
       "      <td>fa949afc3206882795dfaeb7ee2151f4.pdf</td>\n",
       "      <td>Annual Report\\nand Accounts\\nCharity No. 11245...</td>\n",
       "      <td>Annual Report and Accounts Charity No 1124548 ...</td>\n",
       "      <td>[Annual, Report, and, Accounts, Charity, No, 1...</td>\n",
       "      <td>3225</td>\n",
       "      <td>1130</td>\n",
       "      <td>7</td>\n",
       "    </tr>\n",
       "    <tr>\n",
       "      <th>1720</th>\n",
       "      <td>fee8ec3921b1b15afd4471987745a235.pdf</td>\n",
       "      <td>LOC 2015/2016 Accounts\\nLOC 2015/2016 accounts...</td>\n",
       "      <td>LOC 2015 2016 Accounts LOC 2015 2016 accounts ...</td>\n",
       "      <td>[LOC, 2015, 2016, Accounts, LOC, 2015, 2016, a...</td>\n",
       "      <td>1460</td>\n",
       "      <td>693</td>\n",
       "      <td>7</td>\n",
       "    </tr>\n",
       "  </tbody>\n",
       "</table>\n",
       "<p>74 rows × 7 columns</p>\n",
       "</div>"
      ],
      "text/plain": [
       "                                  filename  \\\n",
       "86    0be8779b17ed56e34fc5de524972242c.pdf   \n",
       "123   1054c3da15aecc8377d153201ce45e98.pdf   \n",
       "144   1383457e753c7c79a1689bc23fba110e.pdf   \n",
       "155   154d01224d9939d6b12a1d71bd531efe.pdf   \n",
       "183   19ea8bf028e1e7ee018bdf01fa533e7d.pdf   \n",
       "...                                    ...   \n",
       "1648  f224c67af82ba4a32ba74f8d0af89b40.pdf   \n",
       "1657  f34f805b83446502b8b727dd5266bf6b.pdf   \n",
       "1661  f3aed56de4c9356c0d7a425a246d67b6.pdf   \n",
       "1695  fa949afc3206882795dfaeb7ee2151f4.pdf   \n",
       "1720  fee8ec3921b1b15afd4471987745a235.pdf   \n",
       "\n",
       "                                              text_best  \\\n",
       "86    EC1Y 8AB\\nThree Bridges Free Church\\nREPORT & ...   \n",
       "123   First Church of Christ, Scientist, Walton and ...   \n",
       "144   St Nicholas, Allington, Maidstone ~ Trustees R...   \n",
       "155   Parish of St Leonards on Sea\\nSt Leonard and S...   \n",
       "183   www. stbk. org. uk\\nTHE PAROCHIAL CHURCH COUNC...   \n",
       "...                                                 ...   \n",
       "1648  South Street Evangelical Church\\nCharity no 11...   \n",
       "1657  St John the Baptist Church, Knutsford\\nANNUAL ...   \n",
       "1661  THE PARISH OF ST JAMES COLLIER ROW AND\\nST JOH...   \n",
       "1695  Annual Report\\nand Accounts\\nCharity No. 11245...   \n",
       "1720  LOC 2015/2016 Accounts\\nLOC 2015/2016 accounts...   \n",
       "\n",
       "                                             best_clean  \\\n",
       "86    EC1Y 8AB Three Bridges Free Church REPORT ACCO...   \n",
       "123   First Church of Christ Scientist Walton and We...   \n",
       "144   St Nicholas Allington Maidstone Trustees Repor...   \n",
       "155   Parish of St Leonards on Sea St Leonard and St...   \n",
       "183   www stbk org uk THE PAROCHIAL CHURCH COUNCIL O...   \n",
       "...                                                 ...   \n",
       "1648  South Street Evangelical Church Charity no 115...   \n",
       "1657  St John the Baptist Church Knutsford ANNUAL RE...   \n",
       "1661  THE PARISH OF ST JAMES COLLIER ROW AND ST JOHN...   \n",
       "1695  Annual Report and Accounts Charity No 1124548 ...   \n",
       "1720  LOC 2015 2016 Accounts LOC 2015 2016 accounts ...   \n",
       "\n",
       "                                                 tokens  count_token  \\\n",
       "86    [EC1Y, 8AB, Three, Bridges, Free, Church, REPO...         2209   \n",
       "123   [First, Church, of, Christ, Scientist, Walton,...         1580   \n",
       "144   [St, Nicholas, Allington, Maidstone, Trustees,...         1716   \n",
       "155   [Parish, of, St, Leonards, on, Sea, St, Leonar...         5261   \n",
       "183   [www, stbk, org, uk, THE, PAROCHIAL, CHURCH, C...         7247   \n",
       "...                                                 ...          ...   \n",
       "1648  [South, Street, Evangelical, Church, Charity, ...         6154   \n",
       "1657  [St, John, the, Baptist, Church, Knutsford, AN...         8896   \n",
       "1661  [THE, PARISH, OF, ST, JAMES, COLLIER, ROW, AND...         2343   \n",
       "1695  [Annual, Report, and, Accounts, Charity, No, 1...         3225   \n",
       "1720  [LOC, 2015, 2016, Accounts, LOC, 2015, 2016, a...         1460   \n",
       "\n",
       "      count_unique_tokens  y  \n",
       "86                    869  7  \n",
       "123                   654  7  \n",
       "144                   777  7  \n",
       "155                  1639  7  \n",
       "183                  2030  7  \n",
       "...                   ... ..  \n",
       "1648                 1694  7  \n",
       "1657                 2348  7  \n",
       "1661                  886  7  \n",
       "1695                 1130  7  \n",
       "1720                  693  7  \n",
       "\n",
       "[74 rows x 7 columns]"
      ]
     },
     "execution_count": 39,
     "metadata": {},
     "output_type": "execute_result"
    }
   ],
   "source": [
    "check = df[df.y == 7]\n",
    "check"
   ]
  }
 ],
 "metadata": {
  "kernelspec": {
   "display_name": "scikit",
   "language": "python",
   "name": "scikit"
  },
  "language_info": {
   "codemirror_mode": {
    "name": "ipython",
    "version": 3
   },
   "file_extension": ".py",
   "mimetype": "text/x-python",
   "name": "python",
   "nbconvert_exporter": "python",
   "pygments_lexer": "ipython3",
   "version": "3.7.6"
  },
  "latex_envs": {
   "LaTeX_envs_menu_present": true,
   "autoclose": false,
   "autocomplete": true,
   "bibliofile": "biblio.bib",
   "cite_by": "apalike",
   "current_citInitial": 1,
   "eqLabelWithNumbers": true,
   "eqNumInitial": 1,
   "hotkeys": {
    "equation": "Ctrl-E",
    "itemize": "Ctrl-I"
   },
   "labels_anchors": false,
   "latex_user_defs": false,
   "report_style_numbering": false,
   "user_envs_cfg": false
  },
  "nbTranslate": {
   "displayLangs": [
    "*"
   ],
   "hotkey": "alt-t",
   "langInMainMenu": true,
   "sourceLang": "en",
   "targetLang": "fr",
   "useGoogleTranslate": true
  },
  "toc": {
   "base_numbering": 1,
   "nav_menu": {},
   "number_sections": true,
   "sideBar": true,
   "skip_h1_title": false,
   "title_cell": "Table of Contents",
   "title_sidebar": "Contents",
   "toc_cell": false,
   "toc_position": {},
   "toc_section_display": true,
   "toc_window_display": false
  }
 },
 "nbformat": 4,
 "nbformat_minor": 4
}
